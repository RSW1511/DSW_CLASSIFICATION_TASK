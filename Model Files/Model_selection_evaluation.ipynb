{
 "cells": [
  {
   "cell_type": "markdown",
   "metadata": {
    "id": "IkECMHlzVdEH"
   },
   "source": [
    "# Step 3 - Model Selection\n"
   ]
  },
  {
   "cell_type": "markdown",
   "metadata": {},
   "source": [
    "### Logistic Regression"
   ]
  },
  {
   "cell_type": "code",
   "execution_count": 3,
   "metadata": {
    "colab": {
     "base_uri": "https://localhost:8080/"
    },
    "id": "Hv91nLBEJI1s",
    "outputId": "c1c5b0d6-449b-4b66-d1a2-8154360338f2"
   },
   "outputs": [
    {
     "name": "stdout",
     "output_type": "stream",
     "text": [
      "Fitting 3 folds for each of 18 candidates, totalling 54 fits\n",
      "Best parameters for Logistic Regression: {'C': 1, 'max_iter': 300, 'solver': 'lbfgs'}\n",
      "Accuracy of Logistic Regression: 0.3225275933336265\n",
      "              precision    recall  f1-score   support\n",
      "\n",
      "           0       0.26      0.88      0.40     29689\n",
      "           1       0.75      0.13      0.22     84016\n",
      "\n",
      "    accuracy                           0.32    113705\n",
      "   macro avg       0.50      0.50      0.31    113705\n",
      "weighted avg       0.62      0.32      0.26    113705\n",
      "\n"
     ]
    },
    {
     "data": {
      "text/plain": [
       "['logistic_regression_best_model.pkl']"
      ]
     },
     "execution_count": 3,
     "metadata": {},
     "output_type": "execute_result"
    }
   ],
   "source": [
    "import pandas as pd\n",
    "from sklearn.model_selection import GridSearchCV\n",
    "from sklearn.linear_model import LogisticRegression\n",
    "from sklearn.metrics import accuracy_score, classification_report\n",
    "import joblib\n",
    "\n",
    "# Load the dataset\n",
    "train_data = pd.read_csv('/content/drive/MyDrive/Dsw/train_data.csv')\n",
    "test_data = pd.read_csv('/content/drive/MyDrive/Dsw/test_data.csv')\n",
    "target_column = 'loan_status'\n",
    "\n",
    "# Prepare features and target\n",
    "X_train = train_data.drop(columns=[target_column])\n",
    "y_train = train_data[target_column]\n",
    "X_test = test_data.drop(columns=[target_column])\n",
    "y_test = test_data[target_column]\n",
    "\n",
    "# Logistic Regression Model and Grid\n",
    "model = LogisticRegression()\n",
    "param_grid = {\n",
    "    'C': [0.1, 1, 10],\n",
    "    'solver': ['lbfgs', 'liblinear'],\n",
    "    'max_iter': [100, 200, 300]\n",
    "}\n",
    "\n",
    "# Hyperparameter tuning\n",
    "grid_search = GridSearchCV(estimator=model, param_grid=param_grid, cv=3, scoring='accuracy', n_jobs=-1, verbose=2)\n",
    "grid_search.fit(X_train, y_train)\n",
    "best_model = grid_search.best_estimator_\n",
    "\n",
    "# Evaluation\n",
    "print(\"Best parameters for Logistic Regression:\", grid_search.best_params_)\n",
    "y_pred = best_model.predict(X_test)\n",
    "print(f\"Accuracy of Logistic Regression: {accuracy_score(y_test, y_pred)}\")\n",
    "print(classification_report(y_test, y_pred))\n",
    "\n",
    "# Save the model\n",
    "joblib.dump(best_model, 'logistic_regression_best_model.pkl')\n"
   ]
  },
  {
   "cell_type": "markdown",
   "metadata": {},
   "source": [
    "### Decision Tree"
   ]
  },
  {
   "cell_type": "code",
   "execution_count": 5,
   "metadata": {
    "colab": {
     "base_uri": "https://localhost:8080/"
    },
    "id": "KX8kaXxyJLXv",
    "outputId": "9dae714a-935b-4c98-872e-8586f9bf6ca8"
   },
   "outputs": [
    {
     "name": "stdout",
     "output_type": "stream",
     "text": [
      "Fitting 3 folds for each of 36 candidates, totalling 108 fits\n",
      "Best parameters for Decision Tree: {'max_depth': 10, 'min_samples_leaf': 1, 'min_samples_split': 5}\n",
      "Accuracy of Decision Tree: 0.5903258431907128\n",
      "              precision    recall  f1-score   support\n",
      "\n",
      "           0       0.30      0.44      0.36     29689\n",
      "           1       0.77      0.64      0.70     84016\n",
      "\n",
      "    accuracy                           0.59    113705\n",
      "   macro avg       0.53      0.54      0.53    113705\n",
      "weighted avg       0.64      0.59      0.61    113705\n",
      "\n"
     ]
    },
    {
     "data": {
      "text/plain": [
       "['decision_tree_best_model.pkl']"
      ]
     },
     "execution_count": 5,
     "metadata": {},
     "output_type": "execute_result"
    }
   ],
   "source": [
    "import pandas as pd\n",
    "from sklearn.model_selection import GridSearchCV\n",
    "from sklearn.tree import DecisionTreeClassifier\n",
    "from sklearn.metrics import accuracy_score, classification_report\n",
    "import joblib\n",
    "\n",
    "# Load the dataset\n",
    "train_data = pd.read_csv('/content/drive/MyDrive/Dsw/train_data.csv')\n",
    "test_data = pd.read_csv('/content/drive/MyDrive/Dsw/test_data.csv')\n",
    "target_column = 'loan_status'\n",
    "\n",
    "# Prepare features and target\n",
    "X_train = train_data.drop(columns=[target_column])\n",
    "y_train = train_data[target_column]\n",
    "X_test = test_data.drop(columns=[target_column])\n",
    "y_test = test_data[target_column]\n",
    "\n",
    "# Decision Tree Model and Grid\n",
    "model = DecisionTreeClassifier()\n",
    "param_grid = {\n",
    "    'max_depth': [None, 10, 20, 30],\n",
    "    'min_samples_split': [2, 5, 10],\n",
    "    'min_samples_leaf': [1, 2, 4]\n",
    "}\n",
    "\n",
    "# Hyperparameter tuning\n",
    "grid_search = GridSearchCV(estimator=model, param_grid=param_grid, cv=3, scoring='accuracy', n_jobs=-1, verbose=2)\n",
    "grid_search.fit(X_train, y_train)\n",
    "best_model = grid_search.best_estimator_\n",
    "\n",
    "# Evaluation\n",
    "print(\"Best parameters for Decision Tree:\", grid_search.best_params_)\n",
    "y_pred = best_model.predict(X_test)\n",
    "print(f\"Accuracy of Decision Tree: {accuracy_score(y_test, y_pred)}\")\n",
    "print(classification_report(y_test, y_pred))\n",
    "\n",
    "# Save the model\n",
    "joblib.dump(best_model, 'decision_tree_best_model.pkl')\n"
   ]
  },
  {
   "cell_type": "markdown",
   "metadata": {},
   "source": [
    "### XGBoost"
   ]
  },
  {
   "cell_type": "code",
   "execution_count": 2,
   "metadata": {
    "colab": {
     "base_uri": "https://localhost:8080/"
    },
    "id": "z3YICXyKYdFl",
    "outputId": "66e696b6-2ee4-48d2-f849-d8a46cd82336"
   },
   "outputs": [
    {
     "name": "stdout",
     "output_type": "stream",
     "text": [
      "Fitting 3 folds for each of 54 candidates, totalling 162 fits\n",
      "Best parameters for XGBoost: {'learning_rate': 0.1, 'max_depth': 3, 'n_estimators': 50, 'subsample': 0.8}\n",
      "Accuracy of XGBoost: 0.745631238731806\n",
      "              precision    recall  f1-score   support\n",
      "\n",
      "           0       0.52      0.42      0.46     29689\n",
      "           1       0.81      0.86      0.83     84016\n",
      "\n",
      "    accuracy                           0.75    113705\n",
      "   macro avg       0.66      0.64      0.65    113705\n",
      "weighted avg       0.73      0.75      0.74    113705\n",
      "\n"
     ]
    },
    {
     "data": {
      "text/plain": [
       "['xgboost_best_model.pkl']"
      ]
     },
     "execution_count": 2,
     "metadata": {},
     "output_type": "execute_result"
    }
   ],
   "source": [
    "import pandas as pd\n",
    "from sklearn.model_selection import GridSearchCV\n",
    "import xgboost as xgb\n",
    "from sklearn.metrics import accuracy_score, classification_report\n",
    "import joblib\n",
    "\n",
    "# Load the dataset\n",
    "train_data = pd.read_csv('/content/drive/MyDrive/Dsw/train_data.csv')\n",
    "test_data = pd.read_csv('/content/drive/MyDrive/Dsw/test_data.csv')\n",
    "target_column = 'loan_status'\n",
    "\n",
    "# Prepare features and target\n",
    "X_train = train_data.drop(columns=[target_column])\n",
    "y_train = train_data[target_column]\n",
    "X_test = test_data.drop(columns=[target_column])\n",
    "y_test = test_data[target_column]\n",
    "\n",
    "# XGBoost Model and Grid\n",
    "model = xgb.XGBClassifier()\n",
    "param_grid = {\n",
    "    'n_estimators': [50, 100, 200],\n",
    "    'learning_rate': [0.01, 0.1, 0.2],\n",
    "    'max_depth': [3, 5, 7],\n",
    "    'subsample': [0.8, 1.0]\n",
    "}\n",
    "\n",
    "# Hyperparameter tuning\n",
    "grid_search = GridSearchCV(estimator=model, param_grid=param_grid, cv=3, scoring='accuracy', n_jobs=-1, verbose=2)\n",
    "grid_search.fit(X_train, y_train)\n",
    "best_model = grid_search.best_estimator_\n",
    "\n",
    "# Evaluation\n",
    "print(\"Best parameters for XGBoost:\", grid_search.best_params_)\n",
    "y_pred = best_model.predict(X_test)\n",
    "print(f\"Accuracy of XGBoost: {accuracy_score(y_test, y_pred)}\")\n",
    "print(classification_report(y_test, y_pred))\n",
    "\n",
    "# Save the model\n",
    "joblib.dump(best_model, 'xgboost_best_model.pkl')\n"
   ]
  },
  {
   "cell_type": "markdown",
   "metadata": {
    "id": "JBWsFvoMVoX8"
   },
   "source": [
    "**Model Evaluation**"
   ]
  },
  {
   "cell_type": "code",
   "execution_count": 10,
   "metadata": {
    "colab": {
     "base_uri": "https://localhost:8080/"
    },
    "id": "vs3o1y-SOin6",
    "outputId": "98624db4-88be-46e7-ca5e-2c7fa23c7aba"
   },
   "outputs": [
    {
     "name": "stdout",
     "output_type": "stream",
     "text": [
      "XGBoost model loaded successfully.\n",
      "\n",
      "Enter feature values for prediction:\n",
      "Enter income: 450000\n",
      "Enter loan amount: 100000\n",
      "Enter credit score: 650\n",
      "Enter loan term: 24\n",
      "Enter employment length: 6\n",
      "\n",
      "Prediction Results:\n",
      "Prediction (0: Non-Defaulter, 1: Defaulter): 1\n",
      "Default Probability: 0.94\n"
     ]
    }
   ],
   "source": [
    "import pandas as pd\n",
    "import joblib\n",
    "import shap\n",
    "\n",
    "# Load the pre-trained XGBoost model\n",
    "model_path = 'xgboost_best_model.pkl'\n",
    "try:\n",
    "    xgboost_model = joblib.load(model_path)\n",
    "    print(\"XGBoost model loaded successfully.\")\n",
    "except FileNotFoundError:\n",
    "    print(f\"Error: Model file '{model_path}' not found.\")\n",
    "    exit()\n",
    "\n",
    "# Define expected feature names based on the model training\n",
    "expected_features = [\n",
    "    'customer_id', 'cibil_score', 'total_no_of_acc', 'annual_inc', 'loan_amnt',\n",
    "    'installment', 'account_bal', 'emp_length', 'transaction_month',\n",
    "    'transaction_year', 'sub_grade_C2', 'sub_grade_C3', 'sub_grade_C4',\n",
    "    'sub_grade_C5', 'sub_grade_D1', 'sub_grade_D2', 'sub_grade_D3',\n",
    "    'sub_grade_D4', 'sub_grade_D5', 'sub_grade_E1', 'sub_grade_E2',\n",
    "    'sub_grade_E3', 'sub_grade_E4', 'sub_grade_E5', 'sub_grade_F1',\n",
    "    'sub_grade_F2', 'sub_grade_F3', 'sub_grade_F4', 'sub_grade_F5',\n",
    "    'sub_grade_G1', 'sub_grade_G2', 'sub_grade_G3', 'sub_grade_G4',\n",
    "    'sub_grade_G5', 'term_ 60 months', 'home_ownership_OWN',\n",
    "    'home_ownership_RENT', 'purpose_credit_card', 'purpose_debt_consolidation',\n",
    "    'purpose_home_improvement', 'purpose_house', 'purpose_major_purchase',\n",
    "    'purpose_medical', 'purpose_moving', 'purpose_other',\n",
    "    'purpose_renewable_energy', 'purpose_small_business', 'purpose_vacation',\n",
    "    'application_type_Joint App', 'verification_status_Source Verified',\n",
    "    'verification_status_Verified', 'int_rate_binned_Medium',\n",
    "    'int_rate_binned_High', 'int_rate_binned_Very High'\n",
    "]\n",
    "\n",
    "# Function to allow user input\n",
    "def get_user_input():\n",
    "    print(\"\\nEnter feature values for prediction:\")\n",
    "    user_input = {\n",
    "        'income': float(input(\"Enter income: \")),\n",
    "        'loan_amount': float(input(\"Enter loan amount: \")),\n",
    "        'credit_score': float(input(\"Enter credit score: \")),\n",
    "        'loan_term': float(input(\"Enter loan term: \")),\n",
    "        'employment_length': float(input(\"Enter employment length: \"))\n",
    "    }\n",
    "    return user_input\n",
    "\n",
    "# Map user inputs to the model's expected features\n",
    "def prepare_features(user_input, expected_features):\n",
    "    # Initialize a DataFrame with zeros for all expected features\n",
    "    user_features = pd.DataFrame([0] * len(expected_features), index=expected_features).T\n",
    "\n",
    "    # Map user inputs to appropriate features\n",
    "    user_features['annual_inc'] = user_input['income']\n",
    "    user_features['loan_amnt'] = user_input['loan_amount']\n",
    "    user_features['cibil_score'] = user_input['credit_score']\n",
    "    user_features['emp_length'] = user_input['employment_length']\n",
    "\n",
    "    # Set default values for other features (you may update these as needed)\n",
    "    user_features['term_ 60 months'] = 1 if user_input['loan_term'] > 36 else 0\n",
    "\n",
    "    return user_features\n",
    "\n",
    "\n",
    "user_input = get_user_input()\n",
    "\n",
    "\n",
    "user_df = prepare_features(user_input, expected_features)\n",
    "\n",
    "\n",
    "try:\n",
    "    user_prediction = xgboost_model.predict(user_df)\n",
    "    user_prob = xgboost_model.predict_proba(user_df)[:, 1]\n",
    "    print(\"\\nPrediction Results:\")\n",
    "    print(\"Prediction (0: Non-Defaulter, 1: Defaulter):\", user_prediction[0])\n",
    "    print(f\"Default Probability: {user_prob[0]:.2f}\")\n",
    "except Exception as e:\n",
    "    print(f\"Error during prediction: {e}\")\n",
    "    exit()\n",
    "\n",
    "\n",
    "\n"
   ]
  },
  {
   "cell_type": "code",
   "execution_count": null,
   "metadata": {
    "id": "cSBfTW1LV4BC"
   },
   "outputs": [],
   "source": []
  }
 ],
 "metadata": {
  "colab": {
   "provenance": []
  },
  "kernelspec": {
   "display_name": "Python 3",
   "name": "python3"
  },
  "language_info": {
   "name": "python"
  }
 },
 "nbformat": 4,
 "nbformat_minor": 0
}
